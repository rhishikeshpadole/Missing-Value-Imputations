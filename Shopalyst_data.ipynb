{
 "cells": [
  {
   "cell_type": "markdown",
   "metadata": {},
   "source": [
    "<h1><center>Imputing Missing Values</center></h1>"
   ]
  },
  {
   "cell_type": "code",
   "execution_count": 1,
   "metadata": {},
   "outputs": [],
   "source": [
    "import numpy as np\n",
    "import pandas as pd"
   ]
  },
  {
   "cell_type": "code",
   "execution_count": 2,
   "metadata": {},
   "outputs": [],
   "source": [
    "data = pd.read_csv('https://raw.githubusercontent.com/rhishikeshpadole/Missing-Value-Imputations/master/products%20-%20Sheet1.csv')"
   ]
  },
  {
   "cell_type": "code",
   "execution_count": 3,
   "metadata": {},
   "outputs": [
    {
     "data": {
      "text/html": [
       "<div>\n",
       "<style scoped>\n",
       "    .dataframe tbody tr th:only-of-type {\n",
       "        vertical-align: middle;\n",
       "    }\n",
       "\n",
       "    .dataframe tbody tr th {\n",
       "        vertical-align: top;\n",
       "    }\n",
       "\n",
       "    .dataframe thead th {\n",
       "        text-align: right;\n",
       "    }\n",
       "</style>\n",
       "<table border=\"1\" class=\"dataframe\">\n",
       "  <thead>\n",
       "    <tr style=\"text-align: right;\">\n",
       "      <th></th>\n",
       "      <th>ProductId</th>\n",
       "      <th>Title</th>\n",
       "      <th>Image URL</th>\n",
       "      <th>Division</th>\n",
       "      <th>Category</th>\n",
       "      <th>Sub category</th>\n",
       "      <th>Article type</th>\n",
       "      <th>Offer price</th>\n",
       "      <th>Sale price</th>\n",
       "      <th>Color</th>\n",
       "      <th>Gender</th>\n",
       "    </tr>\n",
       "  </thead>\n",
       "  <tbody>\n",
       "    <tr>\n",
       "      <th>0</th>\n",
       "      <td>E8AC41D107EA5DBB5DF561A684899B38</td>\n",
       "      <td>Color Dose Pearls Bronze 59 Nail Polish</td>\n",
       "      <td>https://media6.ppl-media.com/tr:h-750,w-750,c-...</td>\n",
       "      <td>Makeup</td>\n",
       "      <td>Nails</td>\n",
       "      <td>Nail Polish</td>\n",
       "      <td>Nail Polish</td>\n",
       "      <td>59</td>\n",
       "      <td>59</td>\n",
       "      <td>Color Dose</td>\n",
       "      <td>women</td>\n",
       "    </tr>\n",
       "    <tr>\n",
       "      <th>1</th>\n",
       "      <td>04AE770377AABCCBCCDD5FBC93CC83E1</td>\n",
       "      <td>Rimmel Space Dust Nail Polish - Luna Love #004</td>\n",
       "      <td>https://media6.ppl-media.com/tr:h-750,w-750,c-...</td>\n",
       "      <td>Makeup</td>\n",
       "      <td>Nails</td>\n",
       "      <td>Nail Polish</td>\n",
       "      <td>Nail Polish</td>\n",
       "      <td>310</td>\n",
       "      <td>310</td>\n",
       "      <td>Rimmel</td>\n",
       "      <td>women</td>\n",
       "    </tr>\n",
       "    <tr>\n",
       "      <th>2</th>\n",
       "      <td>21B0CF144B3CFFDDCCE4937C7731A7CE</td>\n",
       "      <td>Color Dose Pearls Copper Rust 58 Nail Polish</td>\n",
       "      <td>https://media6.ppl-media.com/tr:h-750,w-750,c-...</td>\n",
       "      <td>Makeup</td>\n",
       "      <td>Nails</td>\n",
       "      <td>Nail Polish</td>\n",
       "      <td>Nail Polish</td>\n",
       "      <td>59</td>\n",
       "      <td>59</td>\n",
       "      <td>Color Dose</td>\n",
       "      <td>women</td>\n",
       "    </tr>\n",
       "    <tr>\n",
       "      <th>3</th>\n",
       "      <td>129CE0C7596D2D346E5CDC54E55A3A67</td>\n",
       "      <td>Color Dose Matt Nude 25 Nail Polish</td>\n",
       "      <td>https://media6.ppl-media.com/tr:h-235,w-235,c-...</td>\n",
       "      <td>NaN</td>\n",
       "      <td>Nails</td>\n",
       "      <td>Nail Polish</td>\n",
       "      <td>Nail Polish</td>\n",
       "      <td>59</td>\n",
       "      <td>59</td>\n",
       "      <td>color dose</td>\n",
       "      <td>women</td>\n",
       "    </tr>\n",
       "    <tr>\n",
       "      <th>4</th>\n",
       "      <td>A5E51E0F6C9929ECD16D875EC9A4AFA5</td>\n",
       "      <td>SUGAR Tip Tac Toe Nail Lacquer - 032 Mary Popp...</td>\n",
       "      <td>https://media6.ppl-media.com/tr:h-750,w-750,c-...</td>\n",
       "      <td>Makeup</td>\n",
       "      <td>Nails</td>\n",
       "      <td>Nail Polish</td>\n",
       "      <td>Nail Polish</td>\n",
       "      <td>237</td>\n",
       "      <td>249</td>\n",
       "      <td>Sugar</td>\n",
       "      <td>women</td>\n",
       "    </tr>\n",
       "  </tbody>\n",
       "</table>\n",
       "</div>"
      ],
      "text/plain": [
       "                          ProductId  \\\n",
       "0  E8AC41D107EA5DBB5DF561A684899B38   \n",
       "1  04AE770377AABCCBCCDD5FBC93CC83E1   \n",
       "2  21B0CF144B3CFFDDCCE4937C7731A7CE   \n",
       "3  129CE0C7596D2D346E5CDC54E55A3A67   \n",
       "4  A5E51E0F6C9929ECD16D875EC9A4AFA5   \n",
       "\n",
       "                                               Title  \\\n",
       "0            Color Dose Pearls Bronze 59 Nail Polish   \n",
       "1     Rimmel Space Dust Nail Polish - Luna Love #004   \n",
       "2       Color Dose Pearls Copper Rust 58 Nail Polish   \n",
       "3                Color Dose Matt Nude 25 Nail Polish   \n",
       "4  SUGAR Tip Tac Toe Nail Lacquer - 032 Mary Popp...   \n",
       "\n",
       "                                           Image URL Division Category  \\\n",
       "0  https://media6.ppl-media.com/tr:h-750,w-750,c-...   Makeup    Nails   \n",
       "1  https://media6.ppl-media.com/tr:h-750,w-750,c-...   Makeup    Nails   \n",
       "2  https://media6.ppl-media.com/tr:h-750,w-750,c-...   Makeup    Nails   \n",
       "3  https://media6.ppl-media.com/tr:h-235,w-235,c-...      NaN    Nails   \n",
       "4  https://media6.ppl-media.com/tr:h-750,w-750,c-...   Makeup    Nails   \n",
       "\n",
       "  Sub category Article type  Offer price  Sale price       Color Gender  \n",
       "0  Nail Polish  Nail Polish           59          59  Color Dose  women  \n",
       "1  Nail Polish  Nail Polish          310         310      Rimmel  women  \n",
       "2  Nail Polish  Nail Polish           59          59  Color Dose  women  \n",
       "3  Nail Polish  Nail Polish           59          59  color dose  women  \n",
       "4  Nail Polish  Nail Polish          237         249       Sugar  women  "
      ]
     },
     "execution_count": 3,
     "metadata": {},
     "output_type": "execute_result"
    }
   ],
   "source": [
    "pd.set_option('display.max_columns', 500)\n",
    "data.head()"
   ]
  },
  {
   "cell_type": "markdown",
   "metadata": {},
   "source": [
    "# Division columns have 2394 missing values"
   ]
  },
  {
   "cell_type": "code",
   "execution_count": 4,
   "metadata": {},
   "outputs": [
    {
     "data": {
      "text/plain": [
       "ProductId          0\n",
       "Title              0\n",
       "Image URL          0\n",
       "Division        2394\n",
       "Category           0\n",
       "Sub category       0\n",
       "Article type       0\n",
       "Offer price        0\n",
       "Sale price         0\n",
       "Color            108\n",
       "Gender             0\n",
       "dtype: int64"
      ]
     },
     "execution_count": 4,
     "metadata": {},
     "output_type": "execute_result"
    }
   ],
   "source": [
    "data.isnull().sum()"
   ]
  },
  {
   "cell_type": "markdown",
   "metadata": {},
   "source": [
    "## From data it is clear that, granularity of data is upto an item/product level.\n",
    "## Here, we are imputing null values in Division columns.\n",
    "## This means, particular items falls under particular Division."
   ]
  },
  {
   "cell_type": "code",
   "execution_count": 5,
   "metadata": {},
   "outputs": [
    {
     "data": {
      "text/plain": [
       "Makeup    149\n",
       "Name: Division, dtype: int64"
      ]
     },
     "execution_count": 5,
     "metadata": {},
     "output_type": "execute_result"
    }
   ],
   "source": [
    "# For category Nails, we are checking the Probability of Make-up :\n",
    "\n",
    "data[data['Category'] == 'Nails']['Division'].value_counts()\n",
    "# probability(Nails -> Make-up) = 1, because, it has only one division i.e. 'Makeup'"
   ]
  },
  {
   "cell_type": "markdown",
   "metadata": {},
   "source": [
    "## Now, Checking for each unique Sub category, how many Divisions are there.\n",
    "## There is only one Division for each distinct Sub Category"
   ]
  },
  {
   "cell_type": "code",
   "execution_count": 6,
   "metadata": {},
   "outputs": [
    {
     "name": "stdout",
     "output_type": "stream",
     "text": [
      "Nail Polish : ['Makeup']\n",
      "---------------------------------------------\n",
      "Lipstick : ['Makeup']\n",
      "---------------------------------------------\n",
      "Fragrance For Men : ['Fragrance']\n",
      "---------------------------------------------\n",
      "Fragrance For Women : ['Fragrance']\n",
      "---------------------------------------------\n",
      "Eyeshadow : ['Makeup']\n",
      "---------------------------------------------\n",
      "Lip Gloss : ['Makeup']\n",
      "---------------------------------------------\n",
      "Foundation : ['Makeup']\n",
      "---------------------------------------------\n",
      "Eyeliner : ['Makeup']\n",
      "---------------------------------------------\n",
      "Deodorant Men : ['Fragrance']\n",
      "---------------------------------------------\n",
      "Regular Soaps : ['Body']\n",
      "---------------------------------------------\n",
      "Powder : ['Makeup']\n",
      "---------------------------------------------\n",
      "Necklaces & Pendants : ['Accessories']\n",
      "---------------------------------------------\n",
      "Handmade Soaps : ['Body']\n",
      "---------------------------------------------\n",
      "Family Nutrition : []\n",
      "---------------------------------------------\n",
      "Shampoo : []\n",
      "---------------------------------------------\n",
      "Lip Liner : ['Makeup']\n",
      "---------------------------------------------\n",
      "Earrings : ['Accessories']\n",
      "---------------------------------------------\n",
      "Face Blush : ['Makeup']\n",
      "---------------------------------------------\n",
      "Deodorant Women : ['Fragrance']\n",
      "---------------------------------------------\n",
      "Bronzers & Highlighters : ['Makeup']\n",
      "---------------------------------------------\n",
      "Concealer : ['Makeup']\n",
      "---------------------------------------------\n",
      "Vitamins & Supplements : []\n",
      "---------------------------------------------\n",
      "Kajal and Kohl : ['Makeup']\n",
      "---------------------------------------------\n",
      "Massage Oils : ['Body']\n",
      "---------------------------------------------\n",
      "Sponges & Wedges : ['Makeup']\n",
      "---------------------------------------------\n",
      "Hair Clips & Accessories : ['Hair Care and Styling']\n",
      "---------------------------------------------\n",
      "Bangles & Bracelets : ['Accessories']\n",
      "---------------------------------------------\n",
      "Radico Hair Color : ['Hair Care and Styling']\n",
      "---------------------------------------------\n",
      "Gift and Value Sets : []\n",
      "---------------------------------------------\n",
      "Mascara : ['Makeup']\n",
      "---------------------------------------------\n",
      "Hair Color : []\n",
      "---------------------------------------------\n",
      "Hand Wash : ['Body']\n",
      "---------------------------------------------\n",
      "Hand Sanitizer : ['Body']\n",
      "---------------------------------------------\n",
      "Healthvit Family Nutrition : ['Wellness']\n",
      "---------------------------------------------\n",
      "Body Lotion : []\n",
      "---------------------------------------------\n",
      "Crunchy Fashion Jewellery : ['Accessories']\n",
      "---------------------------------------------\n",
      "Matrix Hair Color Hair Color : ['Hair Care and Styling']\n",
      "---------------------------------------------\n",
      "Rings : ['Accessories']\n",
      "---------------------------------------------\n",
      "Face Cream : []\n",
      "---------------------------------------------\n",
      "Eye Brow : ['Makeup']\n",
      "---------------------------------------------\n",
      "Beard Oil & Wax : ['Men Grooming']\n",
      "---------------------------------------------\n",
      "Creams, foams and gels : ['Men Grooming']\n",
      "---------------------------------------------\n",
      "Intimate Care : []\n",
      "---------------------------------------------\n",
      "Lip Balm : []\n",
      "---------------------------------------------\n",
      "Hand And Nail Treatment : ['Body']\n",
      "---------------------------------------------\n",
      "Veet Waxing And Shaving : ['Body']\n",
      "---------------------------------------------\n",
      "Hair Dryers : ['Electronics']\n",
      "---------------------------------------------\n",
      "Body Wash : []\n",
      "---------------------------------------------\n",
      "Hair Straightener : ['Electronics']\n",
      "---------------------------------------------\n",
      "After Shaves For Men : ['Men Grooming']\n",
      "---------------------------------------------\n",
      "Morpheme Remedies Family Nutrition : ['Wellness']\n",
      "---------------------------------------------\n",
      "Face Pack : []\n",
      "---------------------------------------------\n",
      "Essential Oils : ['Body']\n",
      "---------------------------------------------\n",
      "Herbalife Weight Management Products : ['Wellness']\n",
      "---------------------------------------------\n",
      "NourishVitals Family Nutrition : ['Wellness']\n",
      "---------------------------------------------\n",
      "Hair Gels & Gums : ['Hair Care and Styling']\n",
      "---------------------------------------------\n",
      "Hair Oil : []\n",
      "---------------------------------------------\n",
      "Hair Spray : ['Hair Care and Styling']\n",
      "---------------------------------------------\n",
      "Sunscreen : []\n",
      "---------------------------------------------\n",
      "Inlife Family Nutrition : ['Wellness']\n",
      "---------------------------------------------\n",
      "Makeup Brushes and Tools : []\n",
      "---------------------------------------------\n",
      "Scrub : []\n",
      "---------------------------------------------\n",
      "Facial Kit : []\n",
      "---------------------------------------------\n",
      "Conditioner : []\n",
      "---------------------------------------------\n",
      "Face Treatment : []\n",
      "---------------------------------------------\n",
      "Primer : ['Makeup']\n",
      "---------------------------------------------\n",
      "Good Vibes Body Wash : ['Body']\n",
      "---------------------------------------------\n",
      "Whisper Intimate Care : ['Wellness']\n",
      "---------------------------------------------\n",
      "Mond'Sub Sheet Mask : ['Skin Care']\n",
      "---------------------------------------------\n",
      "Talc : []\n",
      "---------------------------------------------\n",
      "Bella Intimate Care : ['Wellness']\n",
      "---------------------------------------------\n",
      "Loofahs & Sponges : ['Body']\n",
      "---------------------------------------------\n",
      "Blue Heaven Gift and Value Sets : ['Makeup']\n",
      "---------------------------------------------\n",
      "Kapiva Ayurveda Family Nutrition : ['Wellness']\n",
      "---------------------------------------------\n",
      "SSCPL Herbals Body Treatment : ['Body']\n",
      "---------------------------------------------\n",
      "Berina Hair Color : ['Hair Care and Styling']\n",
      "---------------------------------------------\n",
      "Healthvit Vitamins & Supplements : ['Wellness']\n",
      "---------------------------------------------\n",
      "Moisturizer : []\n",
      "---------------------------------------------\n",
      "Nail Polish Remover : ['Makeup']\n",
      "---------------------------------------------\n",
      "Cartridges : ['Men Grooming']\n",
      "---------------------------------------------\n",
      "Inlife Vitamins & Supplements : ['Wellness']\n",
      "---------------------------------------------\n",
      "Matrix Shampoo : ['Hair Care and Styling']\n",
      "---------------------------------------------\n",
      "Aryanveda Facial Kit : ['Skin Care']\n",
      "---------------------------------------------\n",
      "Bioayurveda Vitamins & Supplements : ['Wellness']\n",
      "---------------------------------------------\n",
      "Matrix Conditioner : ['Hair Care and Styling']\n",
      "---------------------------------------------\n",
      "VLCC Gift and Value Sets : ['Skin Care']\n",
      "---------------------------------------------\n",
      "Waxing And Shaving : []\n",
      "---------------------------------------------\n",
      "Artificial Nails : ['Makeup']\n",
      "---------------------------------------------\n",
      "Rahul Phate's Research Product Moisturizer : ['Skin Care']\n",
      "---------------------------------------------\n",
      "Body Mist : []\n",
      "---------------------------------------------\n",
      "Durex Condoms : ['Wellness']\n",
      "---------------------------------------------\n",
      "Manicure : ['Body']\n",
      "---------------------------------------------\n",
      "Vaadi Herbals Face Cream : ['Skin Care']\n",
      "---------------------------------------------\n",
      "Vaadi Herbals Shampoo : ['Hair Care and Styling']\n",
      "---------------------------------------------\n",
      "Hair Curler : ['Electronics']\n",
      "---------------------------------------------\n",
      "Roots Combs : ['Hair Care and Styling']\n",
      "---------------------------------------------\n",
      "Top And Base Coat : ['Makeup']\n",
      "---------------------------------------------\n",
      "Carrier Oils : ['Body']\n",
      "---------------------------------------------\n",
      "Cheryl's Facial Kit : ['Skin Care']\n",
      "---------------------------------------------\n",
      "Body Butter : []\n",
      "---------------------------------------------\n"
     ]
    }
   ],
   "source": [
    "for i in data['Sub category'].unique():\n",
    "    try:\n",
    "        print(i,':' ,data[data['Sub category'] == i]['Division'].value_counts().index.tolist())\n",
    "        print('---------------------------------------------')\n",
    "    except:\n",
    "        print(None)\n",
    "        print('---------------------------------------------')"
   ]
  },
  {
   "cell_type": "markdown",
   "metadata": {},
   "source": [
    "# In above iterations, some of the lists are empty, replicating missing values"
   ]
  },
  {
   "cell_type": "markdown",
   "metadata": {},
   "source": [
    "# ---------------------------------------------------------------------------------------------------------------"
   ]
  },
  {
   "cell_type": "code",
   "execution_count": 7,
   "metadata": {},
   "outputs": [
    {
     "data": {
      "text/plain": [
       "\"for i in data['Division'].unique():\\n    print(i,':' ,data[data['Sub category'] == i]['Division'].value_counts().index)\\n    print('---------------------------------------------')\""
      ]
     },
     "execution_count": 7,
     "metadata": {},
     "output_type": "execute_result"
    }
   ],
   "source": [
    "'''for i in data['Division'].unique():\n",
    "    print(i,':' ,data[data['Sub category'] == i]['Division'].value_counts().index)\n",
    "    print('---------------------------------------------')'''"
   ]
  },
  {
   "cell_type": "markdown",
   "metadata": {},
   "source": [
    "# ---------------------------------------------------------------------------------------------------------------"
   ]
  },
  {
   "cell_type": "markdown",
   "metadata": {},
   "source": [
    "# Now, the core part of imputation\n",
    "- Finally we are imputing\n",
    "- It is imputing for each missing value in Division column"
   ]
  },
  {
   "cell_type": "code",
   "execution_count": 8,
   "metadata": {},
   "outputs": [],
   "source": [
    "for i in data['Sub category'].unique():\n",
    "    try:\n",
    "        data['Division'] = data['Division'].replace({np.nan : data[data['Sub category'] == i]['Division'].value_counts().index.tolist()[0]})\n",
    "        #print('---------------------------------------------')\n",
    "    except:\n",
    "        None"
   ]
  },
  {
   "cell_type": "markdown",
   "metadata": {},
   "source": [
    "# So, we imputed missing values"
   ]
  },
  {
   "cell_type": "code",
   "execution_count": 9,
   "metadata": {},
   "outputs": [
    {
     "data": {
      "text/plain": [
       "ProductId         0\n",
       "Title             0\n",
       "Image URL         0\n",
       "Division          0\n",
       "Category          0\n",
       "Sub category      0\n",
       "Article type      0\n",
       "Offer price       0\n",
       "Sale price        0\n",
       "Color           108\n",
       "Gender            0\n",
       "dtype: int64"
      ]
     },
     "execution_count": 9,
     "metadata": {},
     "output_type": "execute_result"
    }
   ],
   "source": [
    "data.isnull().sum()"
   ]
  },
  {
   "cell_type": "markdown",
   "metadata": {},
   "source": [
    "# Sorry, I am not able to impute color column, because I have not found yet any algorithm to impute this type of column"
   ]
  }
 ],
 "metadata": {
  "kernelspec": {
   "display_name": "Python 3",
   "language": "python",
   "name": "python3"
  },
  "language_info": {
   "codemirror_mode": {
    "name": "ipython",
    "version": 3
   },
   "file_extension": ".py",
   "mimetype": "text/x-python",
   "name": "python",
   "nbconvert_exporter": "python",
   "pygments_lexer": "ipython3",
   "version": "3.6.4"
  }
 },
 "nbformat": 4,
 "nbformat_minor": 2
}
